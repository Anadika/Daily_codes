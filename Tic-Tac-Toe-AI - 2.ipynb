{
 "cells": [
  {
   "cell_type": "code",
   "execution_count": 1,
   "id": "a4b98a5f-0f35-4785-86b9-b9628c7f61a3",
   "metadata": {},
   "outputs": [],
   "source": [
    "import random\n",
    "board = [' ' for x in range(10)]\n",
    "\n",
    "\n",
    "def printBoard(board):\n",
    "    print('   |   |   ')\n",
    "    print(' ' + board[1] + ' | ' + board[2] + ' | ' + board[3])\n",
    "    print('   |   |   ')\n",
    "    print('------------')\n",
    "    print('   |   |   ')\n",
    "    print(' ' + board[4] + ' | ' + board[5] + ' | ' + board[6])\n",
    "    print('   |   |   ')\n",
    "    print('------------')\n",
    "    print('   |   |   ')\n",
    "    print(' ' + board[7] + ' | ' + board[8] + ' | ' + board[9])\n",
    "    print('   |   |   ')\n"
   ]
  },
  {
   "cell_type": "code",
   "execution_count": 2,
   "id": "6db0ed26-6dd4-4e4e-8710-020143edd40b",
   "metadata": {},
   "outputs": [],
   "source": [
    "def spaceIsFree(pos):\n",
    "    return board[pos]==' '"
   ]
  },
  {
   "cell_type": "code",
   "execution_count": 3,
   "id": "1f906d47-d747-4e41-a74a-adaa7cb9b5ce",
   "metadata": {},
   "outputs": [],
   "source": [
    "def insertLetter(letter,pos):\n",
    "    board[pos]=letter"
   ]
  },
  {
   "cell_type": "code",
   "execution_count": 4,
   "id": "7f83ad86-940b-4e5a-a113-eafd108436e5",
   "metadata": {},
   "outputs": [],
   "source": [
    "def isBoardFull(board):\n",
    "    if board.count(' ') > 1:\n",
    "        return False\n",
    "    else:\n",
    "        return True"
   ]
  },
  {
   "cell_type": "code",
   "execution_count": 5,
   "id": "afae194b-5339-428a-a46c-a35a26a35a19",
   "metadata": {},
   "outputs": [],
   "source": [
    "def IsWinner(b,l):\n",
    "    return (b[1]== l and b[2]==l and b[3]==l) or (b[4]== l and b[5]==l and b[6]==l) or \\\n",
    "    (b[7]== l and b[8]==l and b[9]==l) or \\\n",
    "    (b[1]== l and b[4]==l and b[7]==l) or (b[3]== l and b[6]==l and b[9]==l) or \\\n",
    "    (b[2]== l and b[5]==l and b[8]==l) or \\\n",
    "    (b[1]== l and b[5]==l and b[9]==l) or (b[3]== l and b[5]==l and b[7]==l)\n",
    "    "
   ]
  },
  {
   "cell_type": "code",
   "execution_count": 6,
   "id": "63308bc3-e677-43ca-b823-97c63233940f",
   "metadata": {},
   "outputs": [],
   "source": [
    "def playerMove(symbol):\n",
    "    run = True\n",
    "    while run:\n",
    "        move = input(\"please select a position to enter the {sym} between 1 to 9\".format(sym=symbol))\n",
    "        try:\n",
    "            move = int(move)\n",
    "            if move > 0 and move < 10:\n",
    "                if spaceIsFree(move):\n",
    "                    run = False\n",
    "                    insertLetter(symbol , move)\n",
    "                else:\n",
    "                    print('Sorry, this space is occupied')\n",
    "            else:\n",
    "                print('please type a number between 1 and 9')\n",
    "\n",
    "        except:\n",
    "            print('Please type a number')\n"
   ]
  },
  {
   "cell_type": "code",
   "execution_count": 7,
   "id": "3c0e5959-c53d-486a-ad7a-c45eb4efc022",
   "metadata": {},
   "outputs": [],
   "source": [
    "def AI_player_turn(my_symbol, opp_symbol):\n",
    "    #check own winning conditions\n",
    "    #rows\n",
    "    print(\"\\nAI Player Turn:\\n\")\n",
    "#columns\n",
    "#block opponent\n",
    "#block rows\n",
    "#block diagonals\n",
    "#diagonals\n",
    "# else return random\n",
    "    run = True\n",
    "    while run:\n",
    "        t = random.randint(1,9)\n",
    "        if spaceIsFree(t):\n",
    "            return t    \n",
    "    "
   ]
  },
  {
   "cell_type": "code",
   "execution_count": 8,
   "id": "f4d86d19-bcf4-4c63-a2c5-bfa34c9f3196",
   "metadata": {},
   "outputs": [],
   "source": [
    "def main():\n",
    "    print(\"Welcome to the Tic Tac Toe game\\nHuman Player: O\\nAI Player: X\\n\")\n",
    "    printBoard(board)\n",
    "    while(True):\n",
    "        playerMove('O')\n",
    "        printBoard(board)\n",
    "        if IsWinner(board,'O'):\n",
    "            print(\"\\nWinner is Human Player O\")\n",
    "            break\n",
    "        elif isBoardFull(board):\n",
    "            print(\"\\n Game Tied\");\n",
    "            break\n",
    "        \n",
    "        x=AI_player_turn('X','O')\n",
    "        insertLetter('X',x);\n",
    "        printBoard(board)\n",
    "        if IsWinner(board,'X'):\n",
    "            print(\"\\nWinner is AI Player X\")\n",
    "            break\n",
    "        elif isBoardFull(board):\n",
    "            print(\"\\n Game Tied\");\n",
    "            break"
   ]
  },
  {
   "cell_type": "code",
   "execution_count": 9,
   "id": "d771f9ed-1d3c-4666-a6f6-0c9604d0a227",
   "metadata": {},
   "outputs": [
    {
     "name": "stdout",
     "output_type": "stream",
     "text": [
      "Welcome to the Tic Tac Toe game\n",
      "Human Player: O\n",
      "AI Player: X\n",
      "\n",
      "   |   |   \n",
      "   |   |  \n",
      "   |   |   \n",
      "------------\n",
      "   |   |   \n",
      "   |   |  \n",
      "   |   |   \n",
      "------------\n",
      "   |   |   \n",
      "   |   |  \n",
      "   |   |   \n"
     ]
    },
    {
     "name": "stdin",
     "output_type": "stream",
     "text": [
      "please select a position to enter the O between 1 to 9 1\n"
     ]
    },
    {
     "name": "stdout",
     "output_type": "stream",
     "text": [
      "   |   |   \n",
      " O |   |  \n",
      "   |   |   \n",
      "------------\n",
      "   |   |   \n",
      "   |   |  \n",
      "   |   |   \n",
      "------------\n",
      "   |   |   \n",
      "   |   |  \n",
      "   |   |   \n",
      "\n",
      "AI Player Turn:\n",
      "\n",
      "   |   |   \n",
      " O |   | X\n",
      "   |   |   \n",
      "------------\n",
      "   |   |   \n",
      "   |   |  \n",
      "   |   |   \n",
      "------------\n",
      "   |   |   \n",
      "   |   |  \n",
      "   |   |   \n"
     ]
    },
    {
     "name": "stdin",
     "output_type": "stream",
     "text": [
      "please select a position to enter the O between 1 to 9 4\n"
     ]
    },
    {
     "name": "stdout",
     "output_type": "stream",
     "text": [
      "   |   |   \n",
      " O |   | X\n",
      "   |   |   \n",
      "------------\n",
      "   |   |   \n",
      " O |   |  \n",
      "   |   |   \n",
      "------------\n",
      "   |   |   \n",
      "   |   |  \n",
      "   |   |   \n",
      "\n",
      "AI Player Turn:\n",
      "\n",
      "   |   |   \n",
      " O |   | X\n",
      "   |   |   \n",
      "------------\n",
      "   |   |   \n",
      " O |   |  \n",
      "   |   |   \n",
      "------------\n",
      "   |   |   \n",
      " X |   |  \n",
      "   |   |   \n"
     ]
    },
    {
     "name": "stdin",
     "output_type": "stream",
     "text": [
      "please select a position to enter the O between 1 to 9 5\n"
     ]
    },
    {
     "name": "stdout",
     "output_type": "stream",
     "text": [
      "   |   |   \n",
      " O |   | X\n",
      "   |   |   \n",
      "------------\n",
      "   |   |   \n",
      " O | O |  \n",
      "   |   |   \n",
      "------------\n",
      "   |   |   \n",
      " X |   |  \n",
      "   |   |   \n",
      "\n",
      "AI Player Turn:\n",
      "\n",
      "   |   |   \n",
      " O |   | X\n",
      "   |   |   \n",
      "------------\n",
      "   |   |   \n",
      " O | O | X\n",
      "   |   |   \n",
      "------------\n",
      "   |   |   \n",
      " X |   |  \n",
      "   |   |   \n"
     ]
    },
    {
     "name": "stdin",
     "output_type": "stream",
     "text": [
      "please select a position to enter the O between 1 to 9 9\n"
     ]
    },
    {
     "name": "stdout",
     "output_type": "stream",
     "text": [
      "   |   |   \n",
      " O |   | X\n",
      "   |   |   \n",
      "------------\n",
      "   |   |   \n",
      " O | O | X\n",
      "   |   |   \n",
      "------------\n",
      "   |   |   \n",
      " X |   | O\n",
      "   |   |   \n",
      "\n",
      "Winner is Human Player O\n"
     ]
    }
   ],
   "source": [
    "main()"
   ]
  }
 ],
 "metadata": {
  "kernelspec": {
   "display_name": "Python 3",
   "language": "python",
   "name": "python3"
  },
  "language_info": {
   "codemirror_mode": {
    "name": "ipython",
    "version": 3
   },
   "file_extension": ".py",
   "mimetype": "text/x-python",
   "name": "python",
   "nbconvert_exporter": "python",
   "pygments_lexer": "ipython3",
   "version": "3.8.8"
  }
 },
 "nbformat": 4,
 "nbformat_minor": 5
}
